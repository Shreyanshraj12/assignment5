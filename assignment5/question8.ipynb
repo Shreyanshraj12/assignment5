{
 "cells": [
  {
   "cell_type": "code",
   "execution_count": 3,
   "metadata": {},
   "outputs": [
    {
     "name": "stdout",
     "output_type": "stream",
     "text": [
      "[]\n"
     ]
    }
   ],
   "source": [
    "def find_original(changed):\n",
    "    original = []\n",
    "\n",
    "    for num in changed:\n",
    "        if num / 2 in original:\n",
    "            original.remove(num / 2)\n",
    "        else:\n",
    "            original.append(num)\n",
    "\n",
    "    if len(original) == 0:\n",
    "        return original\n",
    "    else:\n",
    "        return []\n",
    "\n",
    "changed = [1, 3, 4, 2, 6, 8]\n",
    "print(find_original(changed))"
   ]
  }
 ],
 "metadata": {
  "kernelspec": {
   "display_name": "Python 3",
   "language": "python",
   "name": "python3"
  },
  "language_info": {
   "codemirror_mode": {
    "name": "ipython",
    "version": 3
   },
   "file_extension": ".py",
   "mimetype": "text/x-python",
   "name": "python",
   "nbconvert_exporter": "python",
   "pygments_lexer": "ipython3",
   "version": "3.11.1"
  },
  "orig_nbformat": 4
 },
 "nbformat": 4,
 "nbformat_minor": 2
}
